{
 "cells": [
  {
   "cell_type": "raw",
   "id": "b4a8719a",
   "metadata": {},
   "source": [
    "1.What is a lambda function in Python, and how does it differ from a regular function?\n",
    "Ans.1.\n",
    "In Python, a lambda function, also known as an anonymous function, is a small, one-line function that doesn't have a name. It is defined using the lambda keyword and can take any number of arguments but can only have one expression. Here's the basic syntax of a lambda function:"
   ]
  },
  {
   "cell_type": "code",
   "execution_count": null,
   "id": "e3d3b5f0",
   "metadata": {},
   "outputs": [],
   "source": [
    "lambda arguments: expression"
   ]
  },
  {
   "cell_type": "raw",
   "id": "68b983f2",
   "metadata": {},
   "source": [
    "Lambda functions are typically used for short, simple operations that don't require a full-fledged named function. Lambda functions don't have a name. They are defined inline where they are used or assigned to variables.\n",
    "\n",
    "Here's an example to illustrate the difference between a regular function and a lambda function. Suppose we have a regular function to add two numbers:"
   ]
  },
  {
   "cell_type": "code",
   "execution_count": null,
   "id": "15599aac",
   "metadata": {},
   "outputs": [],
   "source": [
    "def add_numbers(x, y):\n",
    "    return x + y\n",
    "\n",
    "#The equivalent lambda function would be:\n",
    "\n",
    "add_numbers = lambda x,y : x+y"
   ]
  },
  {
   "cell_type": "code",
   "execution_count": null,
   "id": "2ede4208",
   "metadata": {},
   "outputs": [],
   "source": []
  },
  {
   "cell_type": "raw",
   "id": "ec505fa2",
   "metadata": {},
   "source": [
    "2.Can a lambda function in Python have multiple arguments? If yes, how can you define and use\n",
    "them?\n",
    "Ans.2.\n",
    "Yes, lambda functions in Python can have multiple arguments. You can define and use multiple arguments in a lambda function by separating them with commas, just like in a regular function.\n",
    "\n",
    "Here's an example of a lambda function with multiple arguments:"
   ]
  },
  {
   "cell_type": "code",
   "execution_count": null,
   "id": "ca43bc34",
   "metadata": {},
   "outputs": [],
   "source": [
    "add_numbers = lambda x,y,z : x+y+z"
   ]
  },
  {
   "cell_type": "raw",
   "id": "d140c324",
   "metadata": {},
   "source": [
    "3.How are lambda functions typically used in Python? Provide an example use case.\n",
    "Ans.3 \n",
    "Lambda functions in Python are commonly used in situations where a small, immediate function is needed for a specific operation or as an argument to another function. They are often used in combination with higher-order functions like map(), filter(), and reduce(), which accept functions as arguments.\n",
    "\n",
    "In Python, iterables include strings, lists, dictionaries, ranges, tuples, and so on. When working with iterables, you can use lambda functions in conjunction with two common functions: filter() and map().\n",
    "\n",
    "Filter()\n",
    "When you want to focus on specific values in an iterable, you can use the filter function. The following is the syntax of a filter function:"
   ]
  },
  {
   "cell_type": "code",
   "execution_count": null,
   "id": "de0c9e0f",
   "metadata": {},
   "outputs": [],
   "source": [
    "filter(function, iterable)"
   ]
  },
  {
   "cell_type": "raw",
   "id": "92b6f708",
   "metadata": {},
   "source": [
    "As you can see, a filter function requires another function that contains the expression or operations that will be performed on the iterable.\n",
    "\n",
    "For example, say I have a list such as [1, 2, 3, 4, 5, 6, 7, 8, 9, 10]. Now let's say that I’m only interested in those values in that list that have a remainder of 0 when divided by 2. I can make use of filter() and a lambda function."
   ]
  },
  {
   "cell_type": "code",
   "execution_count": 6,
   "id": "7178453e",
   "metadata": {},
   "outputs": [
    {
     "data": {
      "text/plain": [
       "<filter at 0x1d24e0271f0>"
      ]
     },
     "execution_count": 6,
     "metadata": {},
     "output_type": "execute_result"
    }
   ],
   "source": [
    "list1 = [1, 2, 3, 4, 5, 6, 7, 8, 9, 10]\n",
    "filter(lambda x: x % 2 == 0, list1)"
   ]
  },
  {
   "cell_type": "code",
   "execution_count": 7,
   "id": "b61fd237",
   "metadata": {},
   "outputs": [
    {
     "name": "stdout",
     "output_type": "stream",
     "text": [
      "[2, 4, 6, 8, 10]\n"
     ]
    }
   ],
   "source": [
    "# The result is always filter object so I will need to convert it to list using list()\n",
    "print(list(filter(lambda x: x % 2 == 0, list1)))"
   ]
  },
  {
   "cell_type": "code",
   "execution_count": null,
   "id": "7fd81038",
   "metadata": {},
   "outputs": [],
   "source": []
  },
  {
   "cell_type": "raw",
   "id": "4bb414f5",
   "metadata": {},
   "source": [
    "4.What are the advantages and limitations of lambda functions compared to regular functions in\n",
    "  Python?\n",
    "Ans.4.\n",
    "Lambda functions allow you to define small, one-line functions without the need for a formal function definition. This concise syntax can make the code more readable and reduce the overhead of defining and naming a separate function.\n",
    "\n",
    "Lambda functions work well with higher-order functions such as map(), filter(), and reduce(), which accept functions as arguments. Using lambda functions in conjunction with these functions can result in more compact and expressive code.\n",
    "\n",
    "\n",
    "While lambda functions offer convenience and conciseness, regular functions provide more versatility and flexibility. Regular functions can contain multiple statements, complex logic, and can be reused throughout the codebase. Therefore, the choice between lambda functions and regular functions depends on the specific use case and the requirements of the code you are writing."
   ]
  },
  {
   "cell_type": "code",
   "execution_count": null,
   "id": "520bbcb7",
   "metadata": {},
   "outputs": [],
   "source": []
  },
  {
   "cell_type": "raw",
   "id": "9d8214f5",
   "metadata": {},
   "source": [
    "5.Are lambda functions in Python able to access variables defined outside of their own scope?\n",
    "  Explain with an example.\n",
    "Ans.5.\n",
    "Yes, lambda functions in Python can access variables defined outside of their own scope. This is achieved through a concept called \"lexical scoping\" or \"closure.\"\n",
    "\n",
    "In Python, when a lambda function is defined, it retains access to variables in the enclosing scope where it was defined. These variables are remembered and can be used within the lambda function, even if they are not explicitly passed as arguments.\n",
    "\n",
    "Here's an example to illustrate how lambda functions can access variables from their enclosing scope:"
   ]
  },
  {
   "cell_type": "code",
   "execution_count": 31,
   "id": "cae72ef0",
   "metadata": {},
   "outputs": [
    {
     "data": {
      "text/plain": [
       "'Hello, John'"
      ]
     },
     "execution_count": 31,
     "metadata": {},
     "output_type": "execute_result"
    }
   ],
   "source": [
    "def outer_function():\n",
    "    message = 'Hello'\n",
    "\n",
    "    # Define a lambda function inside the outer function\n",
    "    lambda_function = lambda name: message + ', ' + name\n",
    "    return lambda_function\n",
    "\n",
    "greeting = outer_function()\n",
    "greeting('John')"
   ]
  },
  {
   "cell_type": "code",
   "execution_count": null,
   "id": "b77914df",
   "metadata": {},
   "outputs": [],
   "source": []
  },
  {
   "cell_type": "raw",
   "id": "6497c161",
   "metadata": {},
   "source": [
    "6.Write a lambda function to calculate the square of a given number."
   ]
  },
  {
   "cell_type": "code",
   "execution_count": 36,
   "id": "ec11988b",
   "metadata": {},
   "outputs": [
    {
     "data": {
      "text/plain": [
       "64"
      ]
     },
     "execution_count": 36,
     "metadata": {},
     "output_type": "execute_result"
    }
   ],
   "source": [
    "Square = lambda x: x**2\n",
    "\n",
    "Square(8)"
   ]
  },
  {
   "cell_type": "code",
   "execution_count": null,
   "id": "335e386b",
   "metadata": {},
   "outputs": [],
   "source": []
  },
  {
   "cell_type": "raw",
   "id": "48bfee05",
   "metadata": {},
   "source": [
    "7.Create a lambda function to find the maximum value in a list of integers."
   ]
  },
  {
   "cell_type": "code",
   "execution_count": 44,
   "id": "4bbb23ef",
   "metadata": {},
   "outputs": [
    {
     "data": {
      "text/plain": [
       "8"
      ]
     },
     "execution_count": 44,
     "metadata": {},
     "output_type": "execute_result"
    }
   ],
   "source": [
    "list1 = [1,2,3,4,5,6,7,8]\n",
    "max_value = lambda x: max(x)\n",
    "\n",
    "max_value(list1)"
   ]
  },
  {
   "cell_type": "code",
   "execution_count": null,
   "id": "f2d4884e",
   "metadata": {},
   "outputs": [],
   "source": []
  },
  {
   "cell_type": "raw",
   "id": "eec682e9",
   "metadata": {},
   "source": [
    "8.Implement a lambda function to filter out all the even numbers from a list of integers."
   ]
  },
  {
   "cell_type": "code",
   "execution_count": 49,
   "id": "2a8280aa",
   "metadata": {},
   "outputs": [
    {
     "name": "stdout",
     "output_type": "stream",
     "text": [
      "[2, 4, 6, 8]\n"
     ]
    }
   ],
   "source": [
    "list1 = [1,2,3,4,5,6,7,8]\n",
    "\n",
    "even_number = list(filter(lambda x: x%2==0, list1))\n",
    "\n",
    "print(even_number)"
   ]
  },
  {
   "cell_type": "code",
   "execution_count": null,
   "id": "835596a9",
   "metadata": {},
   "outputs": [],
   "source": []
  },
  {
   "cell_type": "raw",
   "id": "4b3f32f5",
   "metadata": {},
   "source": [
    "9.Write a lambda function to sort a list of strings in ascending order based on the length of each\n",
    " string."
   ]
  },
  {
   "cell_type": "code",
   "execution_count": 12,
   "id": "b47a314f",
   "metadata": {},
   "outputs": [
    {
     "name": "stdout",
     "output_type": "stream",
     "text": [
      "['Eve', 'Bob', 'Eve', 'Ivan', 'Alice', 'Gerth', 'Charlie']\n"
     ]
    }
   ],
   "source": [
    "string1 = [\"Eve\", \"Alice\", \"Bob\", \"Charlie\", \"Eve\", \"Gerth\", \"Ivan\"]\n",
    "\n",
    "asc_order = sorted (string1, key = lambda x: len(x))\n",
    "\n",
    "print(asc_order)"
   ]
  },
  {
   "cell_type": "code",
   "execution_count": null,
   "id": "85849385",
   "metadata": {},
   "outputs": [],
   "source": []
  },
  {
   "cell_type": "raw",
   "id": "94d9f95b",
   "metadata": {},
   "source": [
    "10. Create a lambda function that takes two lists as input and returns a new list containing the\n",
    "    common elements between the two lists."
   ]
  },
  {
   "cell_type": "code",
   "execution_count": 15,
   "id": "8926eb70",
   "metadata": {},
   "outputs": [
    {
     "name": "stdout",
     "output_type": "stream",
     "text": [
      "[2, 4, 6, 8]\n"
     ]
    }
   ],
   "source": [
    "list1 = [1,2,3,4,5,6,7,8]\n",
    "list2 = [2,4,6,8,10,12,14,16]\n",
    "\n",
    "common_elements = lambda x, y: list(filter(lambda z: z in y, x))\n",
    "print(common_elements(list1,list2))"
   ]
  },
  {
   "cell_type": "code",
   "execution_count": null,
   "id": "edfec79c",
   "metadata": {},
   "outputs": [],
   "source": []
  },
  {
   "cell_type": "raw",
   "id": "520022b0",
   "metadata": {},
   "source": [
    "11.Write a recursive function to calculate the factorial of a given positive integer."
   ]
  },
  {
   "cell_type": "code",
   "execution_count": 17,
   "id": "0de99bb0",
   "metadata": {},
   "outputs": [
    {
     "data": {
      "text/plain": [
       "120"
      ]
     },
     "execution_count": 17,
     "metadata": {},
     "output_type": "execute_result"
    }
   ],
   "source": [
    "def factorial(n):\n",
    "    # Base case: 0! = 1\n",
    "    if n == 0:\n",
    "        return 1\n",
    "    # Recursive case: n! = n * (n-1)!\n",
    "    else:\n",
    "        return n * factorial(n-1)\n",
    "    \n",
    "factorial(5)"
   ]
  },
  {
   "cell_type": "code",
   "execution_count": null,
   "id": "e86ed33a",
   "metadata": {},
   "outputs": [],
   "source": []
  },
  {
   "cell_type": "raw",
   "id": "432d6e07",
   "metadata": {},
   "source": [
    "12.Implement a recursive function to compute the nth Fibonacci number."
   ]
  },
  {
   "cell_type": "code",
   "execution_count": 19,
   "id": "741d9e02",
   "metadata": {},
   "outputs": [
    {
     "data": {
      "text/plain": [
       "8"
      ]
     },
     "execution_count": 19,
     "metadata": {},
     "output_type": "execute_result"
    }
   ],
   "source": [
    "def fibonacci(n):\n",
    "    if n <= 1:  # Base cases: for n=0 and n=1, Fibonacci number is n\n",
    "        return n\n",
    "    else:\n",
    "        return fibonacci(n - 1) + fibonacci(n - 2)  # Recursive case: sum of previous two Fibonacci numbers\n",
    "\n",
    "fibonacci(6)"
   ]
  },
  {
   "cell_type": "code",
   "execution_count": null,
   "id": "3aaf8e21",
   "metadata": {},
   "outputs": [],
   "source": []
  },
  {
   "cell_type": "raw",
   "id": "fc389dc8",
   "metadata": {},
   "source": [
    "13.Create a recursive function to find the sum of all the elements in a given list."
   ]
  },
  {
   "cell_type": "code",
   "execution_count": 13,
   "id": "00503398",
   "metadata": {},
   "outputs": [
    {
     "data": {
      "text/plain": [
       "36"
      ]
     },
     "execution_count": 13,
     "metadata": {},
     "output_type": "execute_result"
    }
   ],
   "source": [
    "def rec_sum(list1):\n",
    "    if len(list1)==0:\n",
    "        return 0\n",
    "    else:\n",
    "        return list1[0]+ rec_sum(list1[1:])\n",
    "    \n",
    "rec_sum([1,2,3,4,5,6,7,8])"
   ]
  },
  {
   "cell_type": "code",
   "execution_count": null,
   "id": "0e0ee9ec",
   "metadata": {},
   "outputs": [],
   "source": []
  },
  {
   "cell_type": "raw",
   "id": "90da042d",
   "metadata": {},
   "source": [
    "14.Write a recursive function to determine whether a given string is a palindrome."
   ]
  },
  {
   "cell_type": "code",
   "execution_count": 6,
   "id": "7a325efc",
   "metadata": {},
   "outputs": [
    {
     "data": {
      "text/plain": [
       "True"
      ]
     },
     "execution_count": 6,
     "metadata": {},
     "output_type": "execute_result"
    }
   ],
   "source": [
    "def Check_palindrome(string):\n",
    "     # Base case: an empty string or a string of length 1 is always a palindrome\n",
    "    string.lower()\n",
    "    if len(string) <= 1:\n",
    "        return True\n",
    "    # Recursive case: check if the first and last characters are equal\n",
    "    elif string[0] == string[-1]:\n",
    "        # Recursively check if the substring excluding the first and last characters is a palindrome\n",
    "        return Check_palindrome(string[1:-1])\n",
    "    else:\n",
    "        # If the first and last characters are not equal, it's not a palindrome\n",
    "        return False\n",
    "    \n",
    "Check_palindrome('malayalam')"
   ]
  },
  {
   "cell_type": "code",
   "execution_count": null,
   "id": "14bbe3c7",
   "metadata": {},
   "outputs": [],
   "source": []
  },
  {
   "cell_type": "raw",
   "id": "0d8b9aea",
   "metadata": {},
   "source": [
    "15.Implement a recursive function to find the greatest common divisor (GCD) of two positive integers."
   ]
  },
  {
   "cell_type": "code",
   "execution_count": 25,
   "id": "26446393",
   "metadata": {},
   "outputs": [
    {
     "data": {
      "text/plain": [
       "4"
      ]
     },
     "execution_count": 25,
     "metadata": {},
     "output_type": "execute_result"
    }
   ],
   "source": [
    "def GCD_fun(num1, num2):\n",
    "    # Base case: if num2 is 0, then num1 is the GCD\n",
    "     if num2 == 0:\n",
    "        return num1\n",
    "     else:\n",
    "        # Recursive case: find the GCD of num2 and the remainder of num1 divided by num2\n",
    "        return GCD_fun(num2, num1%num2)\n",
    "    \n",
    "\n",
    "GCD_fun(52, 20) "
   ]
  },
  {
   "cell_type": "code",
   "execution_count": null,
   "id": "2bd3adc1",
   "metadata": {},
   "outputs": [],
   "source": []
  },
  {
   "cell_type": "code",
   "execution_count": null,
   "id": "ff5baf2b",
   "metadata": {},
   "outputs": [],
   "source": []
  }
 ],
 "metadata": {
  "kernelspec": {
   "display_name": "Python 3 (ipykernel)",
   "language": "python",
   "name": "python3"
  },
  "language_info": {
   "codemirror_mode": {
    "name": "ipython",
    "version": 3
   },
   "file_extension": ".py",
   "mimetype": "text/x-python",
   "name": "python",
   "nbconvert_exporter": "python",
   "pygments_lexer": "ipython3",
   "version": "3.10.9"
  }
 },
 "nbformat": 4,
 "nbformat_minor": 5
}
