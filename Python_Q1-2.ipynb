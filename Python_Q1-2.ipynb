{
 "cells": [
  {
   "cell_type": "markdown",
   "id": "668092a6",
   "metadata": {},
   "source": [
    "Write an efficient algorithm that searches for a value target in an m x n integer matrix. This matrix has the following properties:\n",
    "\n",
    "Integers in each row are sorted from right to left.\n",
    "\n",
    "The first integer of each row is greater than the last integer of the previous row.\n",
    "\n",
    "                              Example-: \n",
    "\n",
    "                                        Input: matrix = [[1,3,5,7],[10,11,16,20],[23,30,34,60]], target = 3\n",
    "\n",
    "                                         Output: True"
   ]
  },
  {
   "cell_type": "code",
   "execution_count": null,
   "id": "11111e90",
   "metadata": {},
   "outputs": [],
   "source": []
  },
  {
   "cell_type": "code",
   "execution_count": 4,
   "id": "26fcfef5",
   "metadata": {},
   "outputs": [
    {
     "name": "stdout",
     "output_type": "stream",
     "text": [
      "True\n"
     ]
    }
   ],
   "source": [
    "def search_value(matrix, target):\n",
    "    if not matrix or not matrix[0]:\n",
    "        return False\n",
    "\n",
    "    rows, cols = len(matrix), len(matrix[0])\n",
    "    left, right = 0, rows * cols - 1\n",
    "\n",
    "    while left <= right:\n",
    "        mid = (left + right) // 2\n",
    "        mid_value = matrix[mid // cols][mid % cols]\n",
    "\n",
    "        if mid_value == target:\n",
    "            return True\n",
    "        elif mid_value < target:\n",
    "            left = mid + 1\n",
    "        else:\n",
    "            right = mid - 1\n",
    "\n",
    "    return False\n",
    "\n",
    "# Example\n",
    "matrix = [[1, 3, 5, 7], [10, 11, 16, 20], [23, 30, 34, 60]]\n",
    "target = 3\n",
    "result = search_value(matrix, target)\n",
    "print(result)\n"
   ]
  },
  {
   "cell_type": "code",
   "execution_count": 5,
   "id": "4df4f8b8",
   "metadata": {},
   "outputs": [
    {
     "name": "stdout",
     "output_type": "stream",
     "text": [
      "False\n"
     ]
    }
   ],
   "source": [
    "# Example\n",
    "matrix = [[1, 3, 5, 7], [10, 11, 16, 20], [23, 30, 34, 60]]\n",
    "target = 100\n",
    "result = search_matrix(matrix, target)\n",
    "print(result)"
   ]
  },
  {
   "cell_type": "code",
   "execution_count": null,
   "id": "819a3e09",
   "metadata": {},
   "outputs": [],
   "source": []
  },
  {
   "cell_type": "markdown",
   "id": "bbb4d998",
   "metadata": {},
   "source": [
    " Question: 2\n",
    "\n",
    "Write a program that takes a string as input, and counts the frequency of each word in the string, there might  be repeated characters in the string. Your task is to find the highest frequency and returns the length of the  highest-frequency word. \n",
    "\n",
    "Note - You have to write at least 2 additional test cases in which your program will run successfully and provide  an explanation for the same.  \n",
    "\n",
    "Example input - string = “write write write all the number from from from 1 to 100” \n",
    "\n",
    "Example output - 5 \n",
    "\n",
    "Explanation - From the given string we can note that the most frequent words are “write” and “from” and  the maximum value of both the values is “write” and its corresponding length is 5 \n",
    "\n"
   ]
  },
  {
   "cell_type": "code",
   "execution_count": 6,
   "id": "95884708",
   "metadata": {},
   "outputs": [
    {
     "name": "stdout",
     "output_type": "stream",
     "text": [
      "5\n"
     ]
    }
   ],
   "source": [
    "def highest_frequency_word_length(input_string):\n",
    "    words_list = input_string.split()\n",
    "    word_count_dict = {}\n",
    "\n",
    "    for word in words_list:\n",
    "        word_count_dict[word] = word_count_dict.get(word, 0) + 1\n",
    "\n",
    "    max_frequency = max(word_count_dict.values())\n",
    "    most_frequent_words_list = [word for word, count in word_count_dict.items() if count == max_frequency]\n",
    "\n",
    "    if most_frequent_words_list:\n",
    "        highest_frequency_word = most_frequent_words_list[0]\n",
    "        return len(highest_frequency_word)\n",
    "    else:\n",
    "        return 0\n",
    "\n",
    "# Example usage for the given example and additional test cases\n",
    "example_input = \"write write write all the number from from from 1 to 100\"\n",
    "result = highest_frequency_word_length(example_input)\n",
    "print(result)  # Output: 5"
   ]
  },
  {
   "cell_type": "code",
   "execution_count": 7,
   "id": "b753478a",
   "metadata": {},
   "outputs": [
    {
     "name": "stdout",
     "output_type": "stream",
     "text": [
      "3\n"
     ]
    }
   ],
   "source": [
    "# Additional Test Case 1\n",
    "input_1 = \"Train Bus Bus Train Taxi Aeroplane Taxi Bus\"\n",
    "result_1 = highest_frequency_word_length(input_1)\n",
    "print(result_1)  # Output: 3"
   ]
  },
  {
   "cell_type": "code",
   "execution_count": 8,
   "id": "8819f425",
   "metadata": {},
   "outputs": [
    {
     "name": "stdout",
     "output_type": "stream",
     "text": [
      "11\n"
     ]
    }
   ],
   "source": [
    "# Additional Test Case 2\n",
    "input_2 = \"programming python programming python programming\"\n",
    "result_2 = highest_frequency_word_length(input_2)\n",
    "print(result_2)  # Output: 11"
   ]
  },
  {
   "cell_type": "code",
   "execution_count": null,
   "id": "413a6b70",
   "metadata": {},
   "outputs": [],
   "source": []
  }
 ],
 "metadata": {
  "kernelspec": {
   "display_name": "Python 3 (ipykernel)",
   "language": "python",
   "name": "python3"
  },
  "language_info": {
   "codemirror_mode": {
    "name": "ipython",
    "version": 3
   },
   "file_extension": ".py",
   "mimetype": "text/x-python",
   "name": "python",
   "nbconvert_exporter": "python",
   "pygments_lexer": "ipython3",
   "version": "3.10.9"
  }
 },
 "nbformat": 4,
 "nbformat_minor": 5
}
